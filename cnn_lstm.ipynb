{
 "cells": [
  {
   "cell_type": "markdown",
   "id": "51ff2cfe",
   "metadata": {},
   "source": [
    "# Importing"
   ]
  },
  {
   "cell_type": "code",
   "execution_count": 2,
   "id": "7ec954f8",
   "metadata": {},
   "outputs": [],
   "source": [
    "import pandas as pd\n",
    "import yfinance as yf\n",
    "import numpy as np\n",
    "import datetime\n",
    "from dateutil.relativedelta import relativedelta\n",
    "from sklearn.preprocessing import MinMaxScaler\n",
    "from tensorflow.keras.models import Sequential\n",
    "from tensorflow.keras.layers import Dense, LSTM, Dropout , TimeDistributed , Conv1D , MaxPooling1D , Flatten , Bidirectional\n",
    "from keras.callbacks import ModelCheckpoint\n",
    "import pickle\n",
    "import matplotlib.pyplot as plt"
   ]
  },
  {
   "cell_type": "markdown",
   "id": "399db6d5",
   "metadata": {},
   "source": [
    "# Getting data via yfinance API"
   ]
  },
  {
   "cell_type": "code",
   "execution_count": 3,
   "id": "fb5b6d08",
   "metadata": {},
   "outputs": [],
   "source": [
    "stock = yf.Ticker(\"RELIANCE.NS\")\n",
    "df = stock.history(period='1d',\n",
    "start = datetime.date.today() - relativedelta(years=5),end = datetime.date.today())"
   ]
  },
  {
   "cell_type": "markdown",
   "id": "0fd51fe9",
   "metadata": {},
   "source": [
    "# Taking only closing price column"
   ]
  },
  {
   "cell_type": "code",
   "execution_count": 4,
   "id": "f9eb6548",
   "metadata": {},
   "outputs": [
    {
     "data": {
      "text/html": [
       "<div>\n",
       "<style scoped>\n",
       "    .dataframe tbody tr th:only-of-type {\n",
       "        vertical-align: middle;\n",
       "    }\n",
       "\n",
       "    .dataframe tbody tr th {\n",
       "        vertical-align: top;\n",
       "    }\n",
       "\n",
       "    .dataframe thead th {\n",
       "        text-align: right;\n",
       "    }\n",
       "</style>\n",
       "<table border=\"1\" class=\"dataframe\">\n",
       "  <thead>\n",
       "    <tr style=\"text-align: right;\">\n",
       "      <th></th>\n",
       "      <th>Open</th>\n",
       "      <th>High</th>\n",
       "      <th>Low</th>\n",
       "      <th>Close</th>\n",
       "      <th>Volume</th>\n",
       "      <th>Dividends</th>\n",
       "      <th>Stock Splits</th>\n",
       "    </tr>\n",
       "    <tr>\n",
       "      <th>Date</th>\n",
       "      <th></th>\n",
       "      <th></th>\n",
       "      <th></th>\n",
       "      <th></th>\n",
       "      <th></th>\n",
       "      <th></th>\n",
       "      <th></th>\n",
       "    </tr>\n",
       "  </thead>\n",
       "  <tbody>\n",
       "    <tr>\n",
       "      <th>2018-06-18 00:00:00+05:30</th>\n",
       "      <td>977.938040</td>\n",
       "      <td>989.231616</td>\n",
       "      <td>976.193064</td>\n",
       "      <td>984.481506</td>\n",
       "      <td>5705952</td>\n",
       "      <td>0.0</td>\n",
       "      <td>0.0</td>\n",
       "    </tr>\n",
       "    <tr>\n",
       "      <th>2018-06-19 00:00:00+05:30</th>\n",
       "      <td>982.881968</td>\n",
       "      <td>983.754486</td>\n",
       "      <td>963.251509</td>\n",
       "      <td>965.578064</td>\n",
       "      <td>6406255</td>\n",
       "      <td>0.0</td>\n",
       "      <td>0.0</td>\n",
       "    </tr>\n",
       "    <tr>\n",
       "      <th>2018-06-20 00:00:00+05:30</th>\n",
       "      <td>965.529586</td>\n",
       "      <td>991.606631</td>\n",
       "      <td>964.414749</td>\n",
       "      <td>988.068298</td>\n",
       "      <td>7262014</td>\n",
       "      <td>0.0</td>\n",
       "      <td>0.0</td>\n",
       "    </tr>\n",
       "    <tr>\n",
       "      <th>2018-06-21 00:00:00+05:30</th>\n",
       "      <td>992.139759</td>\n",
       "      <td>1004.305852</td>\n",
       "      <td>990.055583</td>\n",
       "      <td>1000.379761</td>\n",
       "      <td>10609377</td>\n",
       "      <td>0.0</td>\n",
       "      <td>0.0</td>\n",
       "    </tr>\n",
       "    <tr>\n",
       "      <th>2018-06-22 00:00:00+05:30</th>\n",
       "      <td>996.938449</td>\n",
       "      <td>997.713968</td>\n",
       "      <td>977.598749</td>\n",
       "      <td>981.524841</td>\n",
       "      <td>16323253</td>\n",
       "      <td>0.0</td>\n",
       "      <td>0.0</td>\n",
       "    </tr>\n",
       "    <tr>\n",
       "      <th>...</th>\n",
       "      <td>...</td>\n",
       "      <td>...</td>\n",
       "      <td>...</td>\n",
       "      <td>...</td>\n",
       "      <td>...</td>\n",
       "      <td>...</td>\n",
       "      <td>...</td>\n",
       "    </tr>\n",
       "    <tr>\n",
       "      <th>2023-06-12 00:00:00+05:30</th>\n",
       "      <td>2475.500000</td>\n",
       "      <td>2489.199951</td>\n",
       "      <td>2465.000000</td>\n",
       "      <td>2484.149902</td>\n",
       "      <td>2949893</td>\n",
       "      <td>0.0</td>\n",
       "      <td>0.0</td>\n",
       "    </tr>\n",
       "    <tr>\n",
       "      <th>2023-06-13 00:00:00+05:30</th>\n",
       "      <td>2495.000000</td>\n",
       "      <td>2523.449951</td>\n",
       "      <td>2486.250000</td>\n",
       "      <td>2520.850098</td>\n",
       "      <td>5190958</td>\n",
       "      <td>0.0</td>\n",
       "      <td>0.0</td>\n",
       "    </tr>\n",
       "    <tr>\n",
       "      <th>2023-06-14 00:00:00+05:30</th>\n",
       "      <td>2521.000000</td>\n",
       "      <td>2555.000000</td>\n",
       "      <td>2517.000000</td>\n",
       "      <td>2551.850098</td>\n",
       "      <td>6127509</td>\n",
       "      <td>0.0</td>\n",
       "      <td>0.0</td>\n",
       "    </tr>\n",
       "    <tr>\n",
       "      <th>2023-06-15 00:00:00+05:30</th>\n",
       "      <td>2551.800049</td>\n",
       "      <td>2562.550049</td>\n",
       "      <td>2535.500000</td>\n",
       "      <td>2552.550049</td>\n",
       "      <td>5451926</td>\n",
       "      <td>0.0</td>\n",
       "      <td>0.0</td>\n",
       "    </tr>\n",
       "    <tr>\n",
       "      <th>2023-06-16 00:00:00+05:30</th>\n",
       "      <td>2560.199951</td>\n",
       "      <td>2582.399902</td>\n",
       "      <td>2560.199951</td>\n",
       "      <td>2577.399902</td>\n",
       "      <td>11155180</td>\n",
       "      <td>0.0</td>\n",
       "      <td>0.0</td>\n",
       "    </tr>\n",
       "  </tbody>\n",
       "</table>\n",
       "<p>1235 rows × 7 columns</p>\n",
       "</div>"
      ],
      "text/plain": [
       "                                  Open         High          Low        Close  \\\n",
       "Date                                                                            \n",
       "2018-06-18 00:00:00+05:30   977.938040   989.231616   976.193064   984.481506   \n",
       "2018-06-19 00:00:00+05:30   982.881968   983.754486   963.251509   965.578064   \n",
       "2018-06-20 00:00:00+05:30   965.529586   991.606631   964.414749   988.068298   \n",
       "2018-06-21 00:00:00+05:30   992.139759  1004.305852   990.055583  1000.379761   \n",
       "2018-06-22 00:00:00+05:30   996.938449   997.713968   977.598749   981.524841   \n",
       "...                                ...          ...          ...          ...   \n",
       "2023-06-12 00:00:00+05:30  2475.500000  2489.199951  2465.000000  2484.149902   \n",
       "2023-06-13 00:00:00+05:30  2495.000000  2523.449951  2486.250000  2520.850098   \n",
       "2023-06-14 00:00:00+05:30  2521.000000  2555.000000  2517.000000  2551.850098   \n",
       "2023-06-15 00:00:00+05:30  2551.800049  2562.550049  2535.500000  2552.550049   \n",
       "2023-06-16 00:00:00+05:30  2560.199951  2582.399902  2560.199951  2577.399902   \n",
       "\n",
       "                             Volume  Dividends  Stock Splits  \n",
       "Date                                                          \n",
       "2018-06-18 00:00:00+05:30   5705952        0.0           0.0  \n",
       "2018-06-19 00:00:00+05:30   6406255        0.0           0.0  \n",
       "2018-06-20 00:00:00+05:30   7262014        0.0           0.0  \n",
       "2018-06-21 00:00:00+05:30  10609377        0.0           0.0  \n",
       "2018-06-22 00:00:00+05:30  16323253        0.0           0.0  \n",
       "...                             ...        ...           ...  \n",
       "2023-06-12 00:00:00+05:30   2949893        0.0           0.0  \n",
       "2023-06-13 00:00:00+05:30   5190958        0.0           0.0  \n",
       "2023-06-14 00:00:00+05:30   6127509        0.0           0.0  \n",
       "2023-06-15 00:00:00+05:30   5451926        0.0           0.0  \n",
       "2023-06-16 00:00:00+05:30  11155180        0.0           0.0  \n",
       "\n",
       "[1235 rows x 7 columns]"
      ]
     },
     "execution_count": 4,
     "metadata": {},
     "output_type": "execute_result"
    }
   ],
   "source": [
    "df"
   ]
  },
  {
   "cell_type": "code",
   "execution_count": 3,
   "id": "87b7093c",
   "metadata": {},
   "outputs": [],
   "source": [
    "df_minmax = df.iloc[:,3:4]"
   ]
  },
  {
   "cell_type": "code",
   "execution_count": 4,
   "id": "12165777",
   "metadata": {},
   "outputs": [],
   "source": [
    "min_max = MinMaxScaler(feature_range=(0,1))\n",
    "df_minmax = min_max.fit_transform(df_minmax)"
   ]
  },
  {
   "cell_type": "code",
   "execution_count": 5,
   "id": "ba1894ac",
   "metadata": {},
   "outputs": [],
   "source": [
    "training_size=int(len(df_minmax)*0.65)\n",
    "test_size=len(df_minmax)-training_size\n",
    "train_data,test_data=df_minmax[0:training_size,:],df_minmax[training_size:len(df_minmax),:1]"
   ]
  },
  {
   "cell_type": "code",
   "execution_count": 6,
   "id": "b48b05e0",
   "metadata": {},
   "outputs": [],
   "source": [
    "def makeFeature(data,feature=24):\n",
    "    x = list()\n",
    "    y = list()\n",
    "    for i in range(len(data)-feature-1):\n",
    "        x.append(data[i:(i + feature),0])\n",
    "        y.append(data[i + feature,0])\n",
    "    x = np.array(x)\n",
    "    y = np.array(y)\n",
    "    return x,y"
   ]
  },
  {
   "cell_type": "code",
   "execution_count": 7,
   "id": "a034ce1b",
   "metadata": {},
   "outputs": [],
   "source": [
    "x_train,y_train = makeFeature(train_data)"
   ]
  },
  {
   "cell_type": "code",
   "execution_count": 8,
   "id": "434b4b00",
   "metadata": {},
   "outputs": [],
   "source": [
    "x_test,y_test = makeFeature(test_data)"
   ]
  },
  {
   "cell_type": "code",
   "execution_count": 9,
   "id": "46920e49",
   "metadata": {},
   "outputs": [
    {
     "data": {
      "text/plain": [
       "779"
      ]
     },
     "execution_count": 9,
     "metadata": {},
     "output_type": "execute_result"
    }
   ],
   "source": [
    "x_train.shape[0]"
   ]
  },
  {
   "cell_type": "code",
   "execution_count": 10,
   "id": "c74edb75",
   "metadata": {},
   "outputs": [
    {
     "data": {
      "text/plain": [
       "24"
      ]
     },
     "execution_count": 10,
     "metadata": {},
     "output_type": "execute_result"
    }
   ],
   "source": [
    "x_train.shape[1]"
   ]
  },
  {
   "cell_type": "code",
   "execution_count": 11,
   "id": "f3a09ae0",
   "metadata": {},
   "outputs": [],
   "source": [
    "x_train = np.reshape(x_train,(x_train.shape[0],1,24,1))"
   ]
  },
  {
   "cell_type": "code",
   "execution_count": 12,
   "id": "84b93b9d",
   "metadata": {},
   "outputs": [],
   "source": [
    "x_test = np.reshape(x_test,(x_test.shape[0],1,24,1))"
   ]
  },
  {
   "cell_type": "code",
   "execution_count": 13,
   "id": "33b7bb52",
   "metadata": {},
   "outputs": [
    {
     "data": {
      "text/plain": [
       "(779, 1, 24, 1)"
      ]
     },
     "execution_count": 13,
     "metadata": {},
     "output_type": "execute_result"
    }
   ],
   "source": [
    "x_train.shape"
   ]
  },
  {
   "cell_type": "code",
   "execution_count": 14,
   "id": "ab800c76",
   "metadata": {},
   "outputs": [
    {
     "data": {
      "text/plain": [
       "(408, 1, 24, 1)"
      ]
     },
     "execution_count": 14,
     "metadata": {},
     "output_type": "execute_result"
    }
   ],
   "source": [
    "x_test.shape"
   ]
  },
  {
   "cell_type": "markdown",
   "id": "28f5bdbf",
   "metadata": {},
   "source": [
    "# Making Model"
   ]
  },
  {
   "cell_type": "code",
   "execution_count": null,
   "id": "41e969e2",
   "metadata": {},
   "outputs": [],
   "source": [
    "model = Sequential([\n",
    "    TimeDistributed(Conv1D(filters = 6,kernel_size = 3, activation = 'relu'),input_shape=(None, 24, 1)),\n",
    "    TimeDistributed(MaxPooling1D()),\n",
    "    TimeDistributed(Flatten()),\n",
    "    LSTM(100,return_sequences=False,input_shape=(x_train.shape[1],1)),\n",
    "    Dropout(0.42),\n",
    "#     LSTM(50,return_sequences=False),\n",
    "#     Dropout(0.3),\n",
    "    Dense(1)\n",
    "])\n",
    "model.compile(optimizer='adam',loss='mean_squared_error')"
   ]
  },
  {
   "cell_type": "code",
   "execution_count": 16,
   "id": "017d9067",
   "metadata": {},
   "outputs": [
    {
     "name": "stdout",
     "output_type": "stream",
     "text": [
      "Model: \"sequential\"\n",
      "_________________________________________________________________\n",
      " Layer (type)                Output Shape              Param #   \n",
      "=================================================================\n",
      " time_distributed (TimeDistr  (None, None, 22, 6)      24        \n",
      " ibuted)                                                         \n",
      "                                                                 \n",
      " time_distributed_1 (TimeDis  (None, None, 11, 6)      0         \n",
      " tributed)                                                       \n",
      "                                                                 \n",
      " time_distributed_2 (TimeDis  (None, None, 66)         0         \n",
      " tributed)                                                       \n",
      "                                                                 \n",
      " lstm (LSTM)                 (None, 100)               66800     \n",
      "                                                                 \n",
      " dropout (Dropout)           (None, 100)               0         \n",
      "                                                                 \n",
      " dense (Dense)               (None, 1)                 101       \n",
      "                                                                 \n",
      "=================================================================\n",
      "Total params: 66,925\n",
      "Trainable params: 66,925\n",
      "Non-trainable params: 0\n",
      "_________________________________________________________________\n"
     ]
    }
   ],
   "source": [
    "model.summary()"
   ]
  },
  {
   "cell_type": "markdown",
   "id": "ba05597f",
   "metadata": {},
   "source": [
    "# Define Model Checkpoint"
   ]
  },
  {
   "cell_type": "code",
   "execution_count": 17,
   "id": "dfd175b8",
   "metadata": {},
   "outputs": [],
   "source": [
    "checkpoint = ModelCheckpoint(filepath='model.hdf5',\n",
    "                             verbose=1,\n",
    "                             monitor='val_accuracy',\n",
    "                             mode='max',\n",
    "                             save_best_only=True)"
   ]
  },
  {
   "cell_type": "code",
   "execution_count": null,
   "id": "75416e62",
   "metadata": {},
   "outputs": [],
   "source": [
    "stock_price = model.fit(x_train,y_train,epochs=100,batch_size=24,verbose=1,callbacks=checkpoint)"
   ]
  },
  {
   "cell_type": "markdown",
   "id": "38b5e24b",
   "metadata": {},
   "source": [
    "# Predicting "
   ]
  },
  {
   "cell_type": "code",
   "execution_count": 19,
   "id": "341dc0cd",
   "metadata": {},
   "outputs": [
    {
     "name": "stdout",
     "output_type": "stream",
     "text": [
      "25/25 [==============================] - 0s 1ms/step\n",
      "13/13 [==============================] - 0s 1ms/step\n"
     ]
    }
   ],
   "source": [
    "train_predict=model.predict(x_train)\n",
    "test_predict=model.predict(x_test)"
   ]
  },
  {
   "cell_type": "code",
   "execution_count": 20,
   "id": "51da6196",
   "metadata": {},
   "outputs": [],
   "source": [
    "train_predict=min_max.inverse_transform(train_predict)\n",
    "test_predict=min_max.inverse_transform(test_predict)"
   ]
  },
  {
   "cell_type": "markdown",
   "id": "73039596",
   "metadata": {},
   "source": [
    "# Plotting \n",
    "### shift train predictions for plotting"
   ]
  },
  {
   "cell_type": "code",
   "execution_count": 21,
   "id": "29af077a",
   "metadata": {},
   "outputs": [
    {
     "data": {
      "image/png": "[encoded data removed]",
      "text/plain": [
       "<Figure size 640x480 with 1 Axes>"
      ]
     },
     "metadata": {},
     "output_type": "display_data"
    }
   ],
   "source": [
    "look_back=24\n",
    "trainPredictPlot = np.empty_like(df_minmax)\n",
    "trainPredictPlot[:, :] = np.nan\n",
    "trainPredictPlot[look_back:len(train_predict)+look_back, :] = train_predict\n",
    "# shift test predictions for plotting\n",
    "testPredictPlot = np.empty_like(df_minmax)\n",
    "testPredictPlot[:, :] = np.nan\n",
    "testPredictPlot[len(train_predict)+(look_back*2)+1:len(df_minmax)-1, :] = test_predict\n",
    "# plot baseline and predictions\n",
    "plt.plot(min_max.inverse_transform(df_minmax))\n",
    "plt.plot(trainPredictPlot)\n",
    "plt.plot(testPredictPlot)\n",
    "plt.show()"
   ]
  },
  {
   "cell_type": "markdown",
   "id": "1579a8e7",
   "metadata": {},
   "source": [
    "# Save both min-max and CNN-LSTM model"
   ]
  },
  {
   "cell_type": "code",
   "execution_count": null,
   "id": "6357d525",
   "metadata": {},
   "outputs": [],
   "source": [
    "pickle.dump(model, open('model_val_best.pkl', 'wb'))"
   ]
  },
  {
   "cell_type": "code",
   "execution_count": null,
   "id": "699cd91c",
   "metadata": {},
   "outputs": [],
   "source": [
    "pickle.dump(min_max,open('minmax.pkl','wb'))"
   ]
  }
 ],
 "metadata": {
  "kernelspec": {
   "display_name": "Python 3 (ipykernel)",
   "language": "python",
   "name": "python3"
  },
  "language_info": {
   "codemirror_mode": {
    "name": "ipython",
    "version": 3
   },
   "file_extension": ".py",
   "mimetype": "text/x-python",
   "name": "python",
   "nbconvert_exporter": "python",
   "pygments_lexer": "ipython3",
   "version": "3.10.9"
  }
 },
 "nbformat": 4,
 "nbformat_minor": 5
}
